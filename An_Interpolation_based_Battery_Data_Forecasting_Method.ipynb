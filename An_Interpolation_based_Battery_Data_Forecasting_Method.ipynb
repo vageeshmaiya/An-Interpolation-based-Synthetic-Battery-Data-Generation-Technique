{
  "nbformat": 4,
  "nbformat_minor": 0,
  "metadata": {
    "colab": {
      "name": " An-Interpolation-based-Battery-Data-Forecasting-Method.ipynb",
      "provenance": [],
      "collapsed_sections": [],
      "authorship_tag": "ABX9TyMpTJY2U27UPtVxcawrFtbW",
      "include_colab_link": true
    },
    "kernelspec": {
      "name": "python3",
      "display_name": "Python 3"
    },
    "language_info": {
      "name": "python"
    },
    "accelerator": "GPU"
  },
  "cells": [
    {
      "cell_type": "markdown",
      "metadata": {
        "id": "view-in-github",
        "colab_type": "text"
      },
      "source": [
        "<a href=\"https://colab.research.google.com/github/vageeshmaiya/Hierarchical-Interpolation/blob/main/An_Interpolation_based_Battery_Data_Forecasting_Method.ipynb\" target=\"_parent\"><img src=\"https://colab.research.google.com/assets/colab-badge.svg\" alt=\"Open In Colab\"/></a>"
      ]
    },
    {
      "cell_type": "markdown",
      "source": [
        "## Loading Drive"
      ],
      "metadata": {
        "id": "wXm0YkhHUugT"
      }
    },
    {
      "cell_type": "code",
      "execution_count": 1,
      "metadata": {
        "colab": {
          "base_uri": "https://localhost:8080/"
        },
        "id": "Y9jLdtwbIy2a",
        "outputId": "3b7e1be0-1eaf-4824-c85c-9e63031c43ea"
      },
      "outputs": [
        {
          "output_type": "stream",
          "name": "stdout",
          "text": [
            "Mounted at /content/drive\n"
          ]
        }
      ],
      "source": [
        "from google.colab import drive\n",
        "drive.mount('/content/drive')"
      ]
    },
    {
      "cell_type": "markdown",
      "source": [
        "## Changing directory path"
      ],
      "metadata": {
        "id": "gtlQ83U7Uyit"
      }
    },
    {
      "cell_type": "markdown",
      "source": [
        "1. Once the drive has been mounted go to the folder icon visible on the left hand side.\n",
        "\n",
        "2. Click on the drive folder.\n",
        "\n",
        "3. There find the `datasets` folder.\n",
        "\n",
        "4. Right click on the folder and select the copy path option.\n",
        "\n",
        "5. Make sure to copy and paste the path of the folder in the code below.\n",
        "\n",
        "6. The path of the folder in the code below is: `/content/drive/MyDrive/datasets`"
      ],
      "metadata": {
        "id": "17RF4AE5U2xW"
      }
    },
    {
      "cell_type": "code",
      "source": [
        "%cd /content/drive/MyDrive/datasets\n",
        "!ls"
      ],
      "metadata": {
        "colab": {
          "base_uri": "https://localhost:8080/"
        },
        "id": "TnEn4Ki6Y0Ri",
        "outputId": "a12f3588-bca9-4ea2-d032-7212f1940179"
      },
      "execution_count": 2,
      "outputs": [
        {
          "output_type": "stream",
          "name": "stdout",
          "text": [
            "/content/drive/MyDrive/datasets\n",
            "d3_c.csv      dataset3.csv  ETTm2_n.csv\t\t       preprocess_yahoo.py\n",
            "d3.csv\t      dataset4.csv  ETTm2.xlsx\t\t       results\n",
            "d3_v.csv      ETTh1.csv     men.csv\t\t       test_d3.csv\n",
            "d3_v.xlsx     ETTh1.xlsx    mendeley.csv\t       trial.csv\n",
            "d3.xlsx       ETTh2.csv     preprocess_electricity.py  Voltage_dataset4.csv\n",
            "dataset2.csv  ETTm2.csv     preprocess_kpi.py\n"
          ]
        }
      ]
    },
    {
      "cell_type": "markdown",
      "source": [
        "## Data Preprocessing\n",
        "\n"
      ],
      "metadata": {
        "id": "9sB8UW1vdb98"
      }
    },
    {
      "cell_type": "code",
      "source": [
        "# Importing Requirements\n",
        "\n",
        "import pandas as pd\n",
        "import numpy as np\n",
        "from typing import Dict, List, Optional, Tuple, Union\n",
        "from pandas.tseries import offsets\n",
        "from pandas.tseries.frequencies import to_offset"
      ],
      "metadata": {
        "id": "sHIobMrCaFEi"
      },
      "execution_count": 3,
      "outputs": []
    },
    {
      "cell_type": "code",
      "source": [
        "# Loading the dataset csv\n",
        "\n",
        "y_df = pd.read_csv('dataset3.csv') # Name of the dataset to be used (Can be changed as per requirement)\n",
        "y_df.head()"
      ],
      "metadata": {
        "colab": {
          "base_uri": "https://localhost:8080/",
          "height": 206
        },
        "id": "eeDN82eTZ2ud",
        "outputId": "2e4b40ec-593f-421a-e67c-9d16caf24e7d"
      },
      "execution_count": 4,
      "outputs": [
        {
          "output_type": "execute_result",
          "data": {
            "text/plain": [
              "                      date   Voltage  Current  Charge_Capacity\n",
              "0  01/27/2018 15:48:09.722  3.402873      0.0              0.0\n",
              "1  01/27/2018 15:50:09.722  3.403528      0.0              0.0\n",
              "2  01/27/2018 15:52:09.723  3.403920      0.0              0.0\n",
              "3  01/27/2018 15:54:09.722  3.404135      0.0              0.0\n",
              "4  01/27/2018 15:56:09.722  3.404352      0.0              0.0"
            ],
            "text/html": [
              "\n",
              "  <div id=\"df-1d9cb069-070b-423f-b3d1-e3ddf3bbffa7\">\n",
              "    <div class=\"colab-df-container\">\n",
              "      <div>\n",
              "<style scoped>\n",
              "    .dataframe tbody tr th:only-of-type {\n",
              "        vertical-align: middle;\n",
              "    }\n",
              "\n",
              "    .dataframe tbody tr th {\n",
              "        vertical-align: top;\n",
              "    }\n",
              "\n",
              "    .dataframe thead th {\n",
              "        text-align: right;\n",
              "    }\n",
              "</style>\n",
              "<table border=\"1\" class=\"dataframe\">\n",
              "  <thead>\n",
              "    <tr style=\"text-align: right;\">\n",
              "      <th></th>\n",
              "      <th>date</th>\n",
              "      <th>Voltage</th>\n",
              "      <th>Current</th>\n",
              "      <th>Charge_Capacity</th>\n",
              "    </tr>\n",
              "  </thead>\n",
              "  <tbody>\n",
              "    <tr>\n",
              "      <th>0</th>\n",
              "      <td>01/27/2018 15:48:09.722</td>\n",
              "      <td>3.402873</td>\n",
              "      <td>0.0</td>\n",
              "      <td>0.0</td>\n",
              "    </tr>\n",
              "    <tr>\n",
              "      <th>1</th>\n",
              "      <td>01/27/2018 15:50:09.722</td>\n",
              "      <td>3.403528</td>\n",
              "      <td>0.0</td>\n",
              "      <td>0.0</td>\n",
              "    </tr>\n",
              "    <tr>\n",
              "      <th>2</th>\n",
              "      <td>01/27/2018 15:52:09.723</td>\n",
              "      <td>3.403920</td>\n",
              "      <td>0.0</td>\n",
              "      <td>0.0</td>\n",
              "    </tr>\n",
              "    <tr>\n",
              "      <th>3</th>\n",
              "      <td>01/27/2018 15:54:09.722</td>\n",
              "      <td>3.404135</td>\n",
              "      <td>0.0</td>\n",
              "      <td>0.0</td>\n",
              "    </tr>\n",
              "    <tr>\n",
              "      <th>4</th>\n",
              "      <td>01/27/2018 15:56:09.722</td>\n",
              "      <td>3.404352</td>\n",
              "      <td>0.0</td>\n",
              "      <td>0.0</td>\n",
              "    </tr>\n",
              "  </tbody>\n",
              "</table>\n",
              "</div>\n",
              "      <button class=\"colab-df-convert\" onclick=\"convertToInteractive('df-1d9cb069-070b-423f-b3d1-e3ddf3bbffa7')\"\n",
              "              title=\"Convert this dataframe to an interactive table.\"\n",
              "              style=\"display:none;\">\n",
              "        \n",
              "  <svg xmlns=\"http://www.w3.org/2000/svg\" height=\"24px\"viewBox=\"0 0 24 24\"\n",
              "       width=\"24px\">\n",
              "    <path d=\"M0 0h24v24H0V0z\" fill=\"none\"/>\n",
              "    <path d=\"M18.56 5.44l.94 2.06.94-2.06 2.06-.94-2.06-.94-.94-2.06-.94 2.06-2.06.94zm-11 1L8.5 8.5l.94-2.06 2.06-.94-2.06-.94L8.5 2.5l-.94 2.06-2.06.94zm10 10l.94 2.06.94-2.06 2.06-.94-2.06-.94-.94-2.06-.94 2.06-2.06.94z\"/><path d=\"M17.41 7.96l-1.37-1.37c-.4-.4-.92-.59-1.43-.59-.52 0-1.04.2-1.43.59L10.3 9.45l-7.72 7.72c-.78.78-.78 2.05 0 2.83L4 21.41c.39.39.9.59 1.41.59.51 0 1.02-.2 1.41-.59l7.78-7.78 2.81-2.81c.8-.78.8-2.07 0-2.86zM5.41 20L4 18.59l7.72-7.72 1.47 1.35L5.41 20z\"/>\n",
              "  </svg>\n",
              "      </button>\n",
              "      \n",
              "  <style>\n",
              "    .colab-df-container {\n",
              "      display:flex;\n",
              "      flex-wrap:wrap;\n",
              "      gap: 12px;\n",
              "    }\n",
              "\n",
              "    .colab-df-convert {\n",
              "      background-color: #E8F0FE;\n",
              "      border: none;\n",
              "      border-radius: 50%;\n",
              "      cursor: pointer;\n",
              "      display: none;\n",
              "      fill: #1967D2;\n",
              "      height: 32px;\n",
              "      padding: 0 0 0 0;\n",
              "      width: 32px;\n",
              "    }\n",
              "\n",
              "    .colab-df-convert:hover {\n",
              "      background-color: #E2EBFA;\n",
              "      box-shadow: 0px 1px 2px rgba(60, 64, 67, 0.3), 0px 1px 3px 1px rgba(60, 64, 67, 0.15);\n",
              "      fill: #174EA6;\n",
              "    }\n",
              "\n",
              "    [theme=dark] .colab-df-convert {\n",
              "      background-color: #3B4455;\n",
              "      fill: #D2E3FC;\n",
              "    }\n",
              "\n",
              "    [theme=dark] .colab-df-convert:hover {\n",
              "      background-color: #434B5C;\n",
              "      box-shadow: 0px 1px 3px 1px rgba(0, 0, 0, 0.15);\n",
              "      filter: drop-shadow(0px 1px 2px rgba(0, 0, 0, 0.3));\n",
              "      fill: #FFFFFF;\n",
              "    }\n",
              "  </style>\n",
              "\n",
              "      <script>\n",
              "        const buttonEl =\n",
              "          document.querySelector('#df-1d9cb069-070b-423f-b3d1-e3ddf3bbffa7 button.colab-df-convert');\n",
              "        buttonEl.style.display =\n",
              "          google.colab.kernel.accessAllowed ? 'block' : 'none';\n",
              "\n",
              "        async function convertToInteractive(key) {\n",
              "          const element = document.querySelector('#df-1d9cb069-070b-423f-b3d1-e3ddf3bbffa7');\n",
              "          const dataTable =\n",
              "            await google.colab.kernel.invokeFunction('convertToInteractive',\n",
              "                                                     [key], {});\n",
              "          if (!dataTable) return;\n",
              "\n",
              "          const docLinkHtml = 'Like what you see? Visit the ' +\n",
              "            '<a target=\"_blank\" href=https://colab.research.google.com/notebooks/data_table.ipynb>data table notebook</a>'\n",
              "            + ' to learn more about interactive tables.';\n",
              "          element.innerHTML = '';\n",
              "          dataTable['output_type'] = 'display_data';\n",
              "          await google.colab.output.renderOutput(dataTable, element);\n",
              "          const docLink = document.createElement('div');\n",
              "          docLink.innerHTML = docLinkHtml;\n",
              "          element.appendChild(docLink);\n",
              "        }\n",
              "      </script>\n",
              "    </div>\n",
              "  </div>\n",
              "  "
            ]
          },
          "metadata": {},
          "execution_count": 4
        }
      ]
    },
    {
      "cell_type": "code",
      "source": [
        "# Deifining Required classes\n",
        "\n",
        "class TimeFeature:\n",
        "    def __init__(self):\n",
        "        pass\n",
        "\n",
        "    def __call__(self, index: pd.DatetimeIndex) -> np.ndarray:\n",
        "        pass\n",
        "\n",
        "    def __repr__(self):\n",
        "        return self.__class__.__name__ + \"()\"\n",
        "\n",
        "class SecondOfMinute(TimeFeature):\n",
        "    \"\"\"Minute of hour encoded as value between [-0.5, 0.5]\"\"\"\n",
        "    def __call__(self, index: pd.DatetimeIndex) -> np.ndarray:\n",
        "        return index.second / 59.0 - 0.5\n",
        "\n",
        "class MinuteOfHour(TimeFeature):\n",
        "    \"\"\"Minute of hour encoded as value between [-0.5, 0.5]\"\"\"\n",
        "    def __call__(self, index: pd.DatetimeIndex) -> np.ndarray:\n",
        "        return index.minute / 59.0 - 0.5\n",
        "\n",
        "class HourOfDay(TimeFeature):\n",
        "    \"\"\"Hour of day encoded as value between [-0.5, 0.5]\"\"\"\n",
        "    def __call__(self, index: pd.DatetimeIndex) -> np.ndarray:\n",
        "        return index.hour / 23.0 - 0.5\n",
        "\n",
        "class DayOfWeek(TimeFeature):\n",
        "    \"\"\"Hour of day encoded as value between [-0.5, 0.5]\"\"\"\n",
        "    def __call__(self, index: pd.DatetimeIndex) -> np.ndarray:\n",
        "        return index.dayofweek / 6.0 - 0.5\n",
        "\n",
        "class DayOfMonth(TimeFeature):\n",
        "    \"\"\"Day of month encoded as value between [-0.5, 0.5]\"\"\"\n",
        "    def __call__(self, index: pd.DatetimeIndex) -> np.ndarray:\n",
        "        return (index.day - 1) / 30.0 - 0.5\n",
        "\n",
        "class DayOfYear(TimeFeature):\n",
        "    \"\"\"Day of year encoded as value between [-0.5, 0.5]\"\"\"\n",
        "    def __call__(self, index: pd.DatetimeIndex) -> np.ndarray:\n",
        "        return (index.dayofyear - 1) / 365.0 - 0.5\n",
        "\n",
        "class MonthOfYear(TimeFeature):\n",
        "    \"\"\"Month of year encoded as value between [-0.5, 0.5]\"\"\"\n",
        "    def __call__(self, index: pd.DatetimeIndex) -> np.ndarray:\n",
        "        return (index.month - 1) / 11.0 - 0.5\n",
        "\n",
        "class WeekOfYear(TimeFeature):\n",
        "    \"\"\"Week of year encoded as value between [-0.5, 0.5]\"\"\"\n",
        "    def __call__(self, index: pd.DatetimeIndex) -> np.ndarray:\n",
        "        return (index.isocalendar().week - 1) / 52.0 - 0.5"
      ],
      "metadata": {
        "id": "yD70KbyjbYeT"
      },
      "execution_count": 5,
      "outputs": []
    },
    {
      "cell_type": "code",
      "source": [
        "# Defining required functions\n",
        "\n",
        "def time_features_from_frequency_str(freq_str: str) -> List[TimeFeature]:\n",
        "    \"\"\"\n",
        "    Returns a list of time features that will be appropriate for the given frequency string.\n",
        "    Parameters\n",
        "    ----------\n",
        "    freq_str\n",
        "        Frequency string of the form [multiple][granularity] such as \"12H\", \"5min\", \"1D\" etc.\n",
        "    \"\"\"\n",
        "\n",
        "    features_by_offsets = {\n",
        "        offsets.YearEnd: [],\n",
        "        offsets.QuarterEnd: [MonthOfYear],\n",
        "        offsets.MonthEnd: [MonthOfYear],\n",
        "        offsets.Week: [DayOfMonth, WeekOfYear],\n",
        "        offsets.Day: [DayOfWeek, DayOfMonth, DayOfYear],\n",
        "        offsets.BusinessDay: [DayOfWeek, DayOfMonth, DayOfYear],\n",
        "        offsets.Hour: [HourOfDay, DayOfWeek, DayOfMonth, DayOfYear],\n",
        "        offsets.Minute: [\n",
        "            MinuteOfHour,\n",
        "            HourOfDay,\n",
        "            DayOfWeek,\n",
        "            DayOfMonth,\n",
        "            DayOfYear,\n",
        "        ],\n",
        "        offsets.Second: [\n",
        "            SecondOfMinute,\n",
        "            MinuteOfHour,\n",
        "            HourOfDay,\n",
        "            DayOfWeek,\n",
        "            DayOfMonth,\n",
        "            DayOfYear,\n",
        "        ],\n",
        "    }\n",
        "\n",
        "    offset = to_offset(freq_str)\n",
        "\n",
        "    for offset_type, feature_classes in features_by_offsets.items():\n",
        "        if isinstance(offset, offset_type):\n",
        "            return [cls() for cls in feature_classes]"
      ],
      "metadata": {
        "id": "rzN7a1XuatG7"
      },
      "execution_count": 6,
      "outputs": []
    },
    {
      "cell_type": "code",
      "source": [
        "# Preprocessing data\n",
        "\n",
        "y_df['date'] = pd.to_datetime(y_df['date'])\n",
        "y_df.rename(columns={'date': 'ds'}, inplace=True)\n",
        "u_ids = y_df.columns.to_list()\n",
        "u_ids.remove('ds')\n",
        "\n",
        "time_cls = time_features_from_frequency_str('h')\n",
        "for cls_ in time_cls:\n",
        "      cls_name = cls_.__class__.__name__\n",
        "      y_df[cls_name] = cls_(y_df['ds'].dt)\n",
        "\n",
        "X_df = y_df.drop(u_ids, axis=1)\n",
        "y_df = y_df.filter(items=['ds'] + u_ids)\n",
        "y_df = y_df.set_index('ds').stack()\n",
        "y_df = y_df.rename('y').rename_axis(['ds', 'unique_id']).reset_index()\n",
        "y_df['unique_id'] = pd.Categorical(y_df['unique_id'], u_ids)\n",
        "y_df = y_df[['unique_id', 'ds', 'y']].sort_values(['unique_id', 'ds'])\n",
        "\n",
        "X_df = y_df[['unique_id', 'ds']].merge(X_df, how='left', on=['ds'])\n",
        "\n",
        "\n",
        "y_df.head()"
      ],
      "metadata": {
        "colab": {
          "base_uri": "https://localhost:8080/",
          "height": 206
        },
        "id": "i0cXcvxQY0Um",
        "outputId": "907a40a6-57b6-4d29-9451-39e2e5773c47"
      },
      "execution_count": 7,
      "outputs": [
        {
          "output_type": "execute_result",
          "data": {
            "text/plain": [
              "   unique_id                      ds         y\n",
              "0    Voltage 2018-01-27 15:48:09.722  3.402873\n",
              "3    Voltage 2018-01-27 15:50:09.722  3.403528\n",
              "6    Voltage 2018-01-27 15:52:09.723  3.403920\n",
              "9    Voltage 2018-01-27 15:54:09.722  3.404135\n",
              "12   Voltage 2018-01-27 15:56:09.722  3.404352"
            ],
            "text/html": [
              "\n",
              "  <div id=\"df-e516d7b9-de03-42cd-b5fe-3776a33faff1\">\n",
              "    <div class=\"colab-df-container\">\n",
              "      <div>\n",
              "<style scoped>\n",
              "    .dataframe tbody tr th:only-of-type {\n",
              "        vertical-align: middle;\n",
              "    }\n",
              "\n",
              "    .dataframe tbody tr th {\n",
              "        vertical-align: top;\n",
              "    }\n",
              "\n",
              "    .dataframe thead th {\n",
              "        text-align: right;\n",
              "    }\n",
              "</style>\n",
              "<table border=\"1\" class=\"dataframe\">\n",
              "  <thead>\n",
              "    <tr style=\"text-align: right;\">\n",
              "      <th></th>\n",
              "      <th>unique_id</th>\n",
              "      <th>ds</th>\n",
              "      <th>y</th>\n",
              "    </tr>\n",
              "  </thead>\n",
              "  <tbody>\n",
              "    <tr>\n",
              "      <th>0</th>\n",
              "      <td>Voltage</td>\n",
              "      <td>2018-01-27 15:48:09.722</td>\n",
              "      <td>3.402873</td>\n",
              "    </tr>\n",
              "    <tr>\n",
              "      <th>3</th>\n",
              "      <td>Voltage</td>\n",
              "      <td>2018-01-27 15:50:09.722</td>\n",
              "      <td>3.403528</td>\n",
              "    </tr>\n",
              "    <tr>\n",
              "      <th>6</th>\n",
              "      <td>Voltage</td>\n",
              "      <td>2018-01-27 15:52:09.723</td>\n",
              "      <td>3.403920</td>\n",
              "    </tr>\n",
              "    <tr>\n",
              "      <th>9</th>\n",
              "      <td>Voltage</td>\n",
              "      <td>2018-01-27 15:54:09.722</td>\n",
              "      <td>3.404135</td>\n",
              "    </tr>\n",
              "    <tr>\n",
              "      <th>12</th>\n",
              "      <td>Voltage</td>\n",
              "      <td>2018-01-27 15:56:09.722</td>\n",
              "      <td>3.404352</td>\n",
              "    </tr>\n",
              "  </tbody>\n",
              "</table>\n",
              "</div>\n",
              "      <button class=\"colab-df-convert\" onclick=\"convertToInteractive('df-e516d7b9-de03-42cd-b5fe-3776a33faff1')\"\n",
              "              title=\"Convert this dataframe to an interactive table.\"\n",
              "              style=\"display:none;\">\n",
              "        \n",
              "  <svg xmlns=\"http://www.w3.org/2000/svg\" height=\"24px\"viewBox=\"0 0 24 24\"\n",
              "       width=\"24px\">\n",
              "    <path d=\"M0 0h24v24H0V0z\" fill=\"none\"/>\n",
              "    <path d=\"M18.56 5.44l.94 2.06.94-2.06 2.06-.94-2.06-.94-.94-2.06-.94 2.06-2.06.94zm-11 1L8.5 8.5l.94-2.06 2.06-.94-2.06-.94L8.5 2.5l-.94 2.06-2.06.94zm10 10l.94 2.06.94-2.06 2.06-.94-2.06-.94-.94-2.06-.94 2.06-2.06.94z\"/><path d=\"M17.41 7.96l-1.37-1.37c-.4-.4-.92-.59-1.43-.59-.52 0-1.04.2-1.43.59L10.3 9.45l-7.72 7.72c-.78.78-.78 2.05 0 2.83L4 21.41c.39.39.9.59 1.41.59.51 0 1.02-.2 1.41-.59l7.78-7.78 2.81-2.81c.8-.78.8-2.07 0-2.86zM5.41 20L4 18.59l7.72-7.72 1.47 1.35L5.41 20z\"/>\n",
              "  </svg>\n",
              "      </button>\n",
              "      \n",
              "  <style>\n",
              "    .colab-df-container {\n",
              "      display:flex;\n",
              "      flex-wrap:wrap;\n",
              "      gap: 12px;\n",
              "    }\n",
              "\n",
              "    .colab-df-convert {\n",
              "      background-color: #E8F0FE;\n",
              "      border: none;\n",
              "      border-radius: 50%;\n",
              "      cursor: pointer;\n",
              "      display: none;\n",
              "      fill: #1967D2;\n",
              "      height: 32px;\n",
              "      padding: 0 0 0 0;\n",
              "      width: 32px;\n",
              "    }\n",
              "\n",
              "    .colab-df-convert:hover {\n",
              "      background-color: #E2EBFA;\n",
              "      box-shadow: 0px 1px 2px rgba(60, 64, 67, 0.3), 0px 1px 3px 1px rgba(60, 64, 67, 0.15);\n",
              "      fill: #174EA6;\n",
              "    }\n",
              "\n",
              "    [theme=dark] .colab-df-convert {\n",
              "      background-color: #3B4455;\n",
              "      fill: #D2E3FC;\n",
              "    }\n",
              "\n",
              "    [theme=dark] .colab-df-convert:hover {\n",
              "      background-color: #434B5C;\n",
              "      box-shadow: 0px 1px 3px 1px rgba(0, 0, 0, 0.15);\n",
              "      filter: drop-shadow(0px 1px 2px rgba(0, 0, 0, 0.3));\n",
              "      fill: #FFFFFF;\n",
              "    }\n",
              "  </style>\n",
              "\n",
              "      <script>\n",
              "        const buttonEl =\n",
              "          document.querySelector('#df-e516d7b9-de03-42cd-b5fe-3776a33faff1 button.colab-df-convert');\n",
              "        buttonEl.style.display =\n",
              "          google.colab.kernel.accessAllowed ? 'block' : 'none';\n",
              "\n",
              "        async function convertToInteractive(key) {\n",
              "          const element = document.querySelector('#df-e516d7b9-de03-42cd-b5fe-3776a33faff1');\n",
              "          const dataTable =\n",
              "            await google.colab.kernel.invokeFunction('convertToInteractive',\n",
              "                                                     [key], {});\n",
              "          if (!dataTable) return;\n",
              "\n",
              "          const docLinkHtml = 'Like what you see? Visit the ' +\n",
              "            '<a target=\"_blank\" href=https://colab.research.google.com/notebooks/data_table.ipynb>data table notebook</a>'\n",
              "            + ' to learn more about interactive tables.';\n",
              "          element.innerHTML = '';\n",
              "          dataTable['output_type'] = 'display_data';\n",
              "          await google.colab.output.renderOutput(dataTable, element);\n",
              "          const docLink = document.createElement('div');\n",
              "          docLink.innerHTML = docLinkHtml;\n",
              "          element.appendChild(docLink);\n",
              "        }\n",
              "      </script>\n",
              "    </div>\n",
              "  </div>\n",
              "  "
            ]
          },
          "metadata": {},
          "execution_count": 7
        }
      ]
    },
    {
      "cell_type": "code",
      "source": [
        "# Saving the processed data as csv file\n",
        "\n",
        "y_df.to_csv('test_d3.csv') # Name of the processed dataset can be changed as per requirement"
      ],
      "metadata": {
        "id": "G3lrzcxadKrY"
      },
      "execution_count": 8,
      "outputs": []
    },
    {
      "cell_type": "markdown",
      "source": [
        "###### The path where the preprocessed dataset is stored canbe found by executing the code below"
      ],
      "metadata": {
        "id": "D2gg7GCtFT3f"
      }
    },
    {
      "cell_type": "code",
      "source": [
        "pwd"
      ],
      "metadata": {
        "colab": {
          "base_uri": "https://localhost:8080/",
          "height": 35
        },
        "id": "WSls6S8XFAvQ",
        "outputId": "723d9fd1-a7bd-45e6-bdcd-326a4ceac24c"
      },
      "execution_count": 9,
      "outputs": [
        {
          "output_type": "execute_result",
          "data": {
            "text/plain": [
              "'/content/drive/MyDrive/datasets'"
            ],
            "application/vnd.google.colaboratory.intrinsic+json": {
              "type": "string"
            }
          },
          "metadata": {},
          "execution_count": 9
        }
      ]
    },
    {
      "cell_type": "markdown",
      "source": [
        "## Installing Neuralforecast library"
      ],
      "metadata": {
        "id": "vjD_x4BXGHkE"
      }
    },
    {
      "cell_type": "code",
      "source": [
        "%%capture\n",
        "pip install git+https://github.com/Nixtla/neuralforecast.git@main"
      ],
      "metadata": {
        "id": "aNphOVp3FuMw"
      },
      "execution_count": 10,
      "outputs": []
    },
    {
      "cell_type": "code",
      "source": [
        "import torch as t\n",
        "import numpy as np\n",
        "import pandas as pd\n",
        "from hyperopt import hp\n",
        "import matplotlib.pyplot as plt\n",
        "\n",
        "import neuralforecast as nf\n",
        "from neuralforecast import auto\n",
        "from neuralforecast.losses.numpy import mae, mse\n",
        "from neuralforecast.data.datasets.long_horizon import LongHorizon\n",
        "\n",
        "import logging\n",
        "logging.getLogger(\"pytorch_lightning\").setLevel(logging.WARNING)"
      ],
      "metadata": {
        "colab": {
          "base_uri": "https://localhost:8080/"
        },
        "id": "GbJxe-FlGbFn",
        "outputId": "f5da4f18-c67f-47ef-b998-645283282649"
      },
      "execution_count": 11,
      "outputs": [
        {
          "output_type": "stream",
          "name": "stderr",
          "text": [
            "/usr/local/lib/python3.7/dist-packages/statsmodels/tools/_testing.py:19: FutureWarning: pandas.util.testing is deprecated. Use the functions in the public API at pandas.testing instead.\n",
            "  import pandas.util.testing as tm\n"
          ]
        }
      ]
    },
    {
      "cell_type": "markdown",
      "source": [
        "## Loading the data"
      ],
      "metadata": {
        "id": "FFmAObdMC4oY"
      }
    },
    {
      "cell_type": "code",
      "source": [
        "Y_df = pd.read_csv('/content/drive/MyDrive/datasets/test_d3.csv') # the path of the processed dataset must be changed accordingly\n",
        "n_time = len(Y_df.ds.unique())\n",
        "n_ts_val = int(.2 * n_time)\n",
        "n_ts_test = int(.2 * n_time)\n",
        "Y_df.head()"
      ],
      "metadata": {
        "colab": {
          "base_uri": "https://localhost:8080/",
          "height": 206
        },
        "id": "Txzj62Q-I4b_",
        "outputId": "1d64a9ba-4eab-423f-eea1-e9efefc3badc"
      },
      "execution_count": 12,
      "outputs": [
        {
          "output_type": "execute_result",
          "data": {
            "text/plain": [
              "   Unnamed: 0 unique_id                       ds         y\n",
              "0           0   Voltage  2018-01-27 15:48:09.722  3.402873\n",
              "1           3   Voltage  2018-01-27 15:50:09.722  3.403528\n",
              "2           6   Voltage  2018-01-27 15:52:09.723  3.403920\n",
              "3           9   Voltage  2018-01-27 15:54:09.722  3.404135\n",
              "4          12   Voltage  2018-01-27 15:56:09.722  3.404352"
            ],
            "text/html": [
              "\n",
              "  <div id=\"df-e1639c56-6e07-40dd-ac7f-0dd0498c79d8\">\n",
              "    <div class=\"colab-df-container\">\n",
              "      <div>\n",
              "<style scoped>\n",
              "    .dataframe tbody tr th:only-of-type {\n",
              "        vertical-align: middle;\n",
              "    }\n",
              "\n",
              "    .dataframe tbody tr th {\n",
              "        vertical-align: top;\n",
              "    }\n",
              "\n",
              "    .dataframe thead th {\n",
              "        text-align: right;\n",
              "    }\n",
              "</style>\n",
              "<table border=\"1\" class=\"dataframe\">\n",
              "  <thead>\n",
              "    <tr style=\"text-align: right;\">\n",
              "      <th></th>\n",
              "      <th>Unnamed: 0</th>\n",
              "      <th>unique_id</th>\n",
              "      <th>ds</th>\n",
              "      <th>y</th>\n",
              "    </tr>\n",
              "  </thead>\n",
              "  <tbody>\n",
              "    <tr>\n",
              "      <th>0</th>\n",
              "      <td>0</td>\n",
              "      <td>Voltage</td>\n",
              "      <td>2018-01-27 15:48:09.722</td>\n",
              "      <td>3.402873</td>\n",
              "    </tr>\n",
              "    <tr>\n",
              "      <th>1</th>\n",
              "      <td>3</td>\n",
              "      <td>Voltage</td>\n",
              "      <td>2018-01-27 15:50:09.722</td>\n",
              "      <td>3.403528</td>\n",
              "    </tr>\n",
              "    <tr>\n",
              "      <th>2</th>\n",
              "      <td>6</td>\n",
              "      <td>Voltage</td>\n",
              "      <td>2018-01-27 15:52:09.723</td>\n",
              "      <td>3.403920</td>\n",
              "    </tr>\n",
              "    <tr>\n",
              "      <th>3</th>\n",
              "      <td>9</td>\n",
              "      <td>Voltage</td>\n",
              "      <td>2018-01-27 15:54:09.722</td>\n",
              "      <td>3.404135</td>\n",
              "    </tr>\n",
              "    <tr>\n",
              "      <th>4</th>\n",
              "      <td>12</td>\n",
              "      <td>Voltage</td>\n",
              "      <td>2018-01-27 15:56:09.722</td>\n",
              "      <td>3.404352</td>\n",
              "    </tr>\n",
              "  </tbody>\n",
              "</table>\n",
              "</div>\n",
              "      <button class=\"colab-df-convert\" onclick=\"convertToInteractive('df-e1639c56-6e07-40dd-ac7f-0dd0498c79d8')\"\n",
              "              title=\"Convert this dataframe to an interactive table.\"\n",
              "              style=\"display:none;\">\n",
              "        \n",
              "  <svg xmlns=\"http://www.w3.org/2000/svg\" height=\"24px\"viewBox=\"0 0 24 24\"\n",
              "       width=\"24px\">\n",
              "    <path d=\"M0 0h24v24H0V0z\" fill=\"none\"/>\n",
              "    <path d=\"M18.56 5.44l.94 2.06.94-2.06 2.06-.94-2.06-.94-.94-2.06-.94 2.06-2.06.94zm-11 1L8.5 8.5l.94-2.06 2.06-.94-2.06-.94L8.5 2.5l-.94 2.06-2.06.94zm10 10l.94 2.06.94-2.06 2.06-.94-2.06-.94-.94-2.06-.94 2.06-2.06.94z\"/><path d=\"M17.41 7.96l-1.37-1.37c-.4-.4-.92-.59-1.43-.59-.52 0-1.04.2-1.43.59L10.3 9.45l-7.72 7.72c-.78.78-.78 2.05 0 2.83L4 21.41c.39.39.9.59 1.41.59.51 0 1.02-.2 1.41-.59l7.78-7.78 2.81-2.81c.8-.78.8-2.07 0-2.86zM5.41 20L4 18.59l7.72-7.72 1.47 1.35L5.41 20z\"/>\n",
              "  </svg>\n",
              "      </button>\n",
              "      \n",
              "  <style>\n",
              "    .colab-df-container {\n",
              "      display:flex;\n",
              "      flex-wrap:wrap;\n",
              "      gap: 12px;\n",
              "    }\n",
              "\n",
              "    .colab-df-convert {\n",
              "      background-color: #E8F0FE;\n",
              "      border: none;\n",
              "      border-radius: 50%;\n",
              "      cursor: pointer;\n",
              "      display: none;\n",
              "      fill: #1967D2;\n",
              "      height: 32px;\n",
              "      padding: 0 0 0 0;\n",
              "      width: 32px;\n",
              "    }\n",
              "\n",
              "    .colab-df-convert:hover {\n",
              "      background-color: #E2EBFA;\n",
              "      box-shadow: 0px 1px 2px rgba(60, 64, 67, 0.3), 0px 1px 3px 1px rgba(60, 64, 67, 0.15);\n",
              "      fill: #174EA6;\n",
              "    }\n",
              "\n",
              "    [theme=dark] .colab-df-convert {\n",
              "      background-color: #3B4455;\n",
              "      fill: #D2E3FC;\n",
              "    }\n",
              "\n",
              "    [theme=dark] .colab-df-convert:hover {\n",
              "      background-color: #434B5C;\n",
              "      box-shadow: 0px 1px 3px 1px rgba(0, 0, 0, 0.15);\n",
              "      filter: drop-shadow(0px 1px 2px rgba(0, 0, 0, 0.3));\n",
              "      fill: #FFFFFF;\n",
              "    }\n",
              "  </style>\n",
              "\n",
              "      <script>\n",
              "        const buttonEl =\n",
              "          document.querySelector('#df-e1639c56-6e07-40dd-ac7f-0dd0498c79d8 button.colab-df-convert');\n",
              "        buttonEl.style.display =\n",
              "          google.colab.kernel.accessAllowed ? 'block' : 'none';\n",
              "\n",
              "        async function convertToInteractive(key) {\n",
              "          const element = document.querySelector('#df-e1639c56-6e07-40dd-ac7f-0dd0498c79d8');\n",
              "          const dataTable =\n",
              "            await google.colab.kernel.invokeFunction('convertToInteractive',\n",
              "                                                     [key], {});\n",
              "          if (!dataTable) return;\n",
              "\n",
              "          const docLinkHtml = 'Like what you see? Visit the ' +\n",
              "            '<a target=\"_blank\" href=https://colab.research.google.com/notebooks/data_table.ipynb>data table notebook</a>'\n",
              "            + ' to learn more about interactive tables.';\n",
              "          element.innerHTML = '';\n",
              "          dataTable['output_type'] = 'display_data';\n",
              "          await google.colab.output.renderOutput(dataTable, element);\n",
              "          const docLink = document.createElement('div');\n",
              "          docLink.innerHTML = docLinkHtml;\n",
              "          element.appendChild(docLink);\n",
              "        }\n",
              "      </script>\n",
              "    </div>\n",
              "  </div>\n",
              "  "
            ]
          },
          "metadata": {},
          "execution_count": 12
        }
      ]
    },
    {
      "cell_type": "code",
      "source": [
        "# Plotting the Voltage parameter\n",
        "# And marking the validation and train split\n",
        "\n",
        "u_id = 'Voltage'\n",
        "x_plot = pd.to_datetime(Y_df[Y_df.unique_id==u_id].ds)\n",
        "y_plot = Y_df[Y_df.unique_id==u_id].y.values\n",
        "\n",
        "x_val = x_plot[n_time - n_ts_val - n_ts_test]\n",
        "x_test = x_plot[n_time - n_ts_test]\n",
        "\n",
        "fig = plt.figure(figsize=(10, 5))\n",
        "fig.tight_layout()\n",
        "\n",
        "plt.plot(x_plot, y_plot)\n",
        "plt.xlabel('Date', fontsize=17)\n",
        "plt.ylabel('Voltage', fontsize=17)\n",
        "\n",
        "plt.axvline(x_val, color='black', linestyle='-.')\n",
        "plt.axvline(x_test, color='black', linestyle='-.')\n",
        "plt.text(x_val, 5, '  Validation', fontsize=12)\n",
        "plt.text(x_test, 5, '  Test', fontsize=12)\n",
        "\n",
        "plt.grid()\n",
        "plt.show()\n",
        "plt.close()"
      ],
      "metadata": {
        "colab": {
          "base_uri": "https://localhost:8080/",
          "height": 443
        },
        "id": "U5vy6I8dI4nR",
        "outputId": "086d5b1c-aa45-49ec-9c1c-e4e556a61d2b"
      },
      "execution_count": 13,
      "outputs": [
        {
          "output_type": "display_data",
          "data": {
            "text/plain": [
              "<Figure size 720x360 with 1 Axes>"
            ],
            "image/png": "[encoded data removed]"
          },
          "metadata": {
            "needs_background": "light"
          }
        }
      ]
    },
    {
      "cell_type": "markdown",
      "source": [
        "## Define Hyperparameter Space"
      ],
      "metadata": {
        "id": "45Agnj8REk7h"
      }
    },
    {
      "cell_type": "markdown",
      "source": [
        "The `auto.NHITS` class contains a pre-defined suggested hyperparameter space, built for the Hyperopt library. \n",
        "\n",
        "The parameter `n_time_out` is used to specify the desired forecasting horizon.\n",
        "\n",
        "Refer to http://hyperopt.github.io/hyperopt/ for more information on the different space options, such as lists and continous intervals."
      ],
      "metadata": {
        "id": "o-FUVtZJE8Lc"
      }
    },
    {
      "cell_type": "code",
      "source": [
        "n_time_out = 300 \n",
        "\n",
        "model = auto.NHITS(n_time_out=300)"
      ],
      "metadata": {
        "id": "f02yiU45EnIY"
      },
      "execution_count": 14,
      "outputs": []
    },
    {
      "cell_type": "code",
      "source": [
        "model.space['max_steps'] = hp.choice('max_steps', [1000])"
      ],
      "metadata": {
        "id": "Oz6dnlo7FZPo"
      },
      "execution_count": 15,
      "outputs": []
    },
    {
      "cell_type": "markdown",
      "source": [
        "## Hyperparameter Tuning"
      ],
      "metadata": {
        "id": "GsRqXXUlFeD_"
      }
    },
    {
      "cell_type": "markdown",
      "source": [
        "The function `hyperopt_tunning` will perform the automatic hyperparameter optimization using the `Hyperopt` library for any the implemented models, on the specified space, on any dataframes `Y_df` and with custom validation and test losses.\n",
        "\n",
        "This function will split the data in `Y_df` based on the number of timestamps for the validation and test sets, specified with `ds_in_val` and `ds_in_test`. Each configuration will be trained on the train split, evaluated on the validation and test sets with the desired loss functions.\n",
        "\n",
        "Use the `hyperopt_max_evals` parameter to change the number of configurations explored (5 is enough for achieving SoTA performance, but more iterations will further improve results)."
      ],
      "metadata": {
        "id": "zznv4SgXZKtC"
      }
    },
    {
      "cell_type": "code",
      "source": [
        "%%capture\n",
        "model.fit(Y_df=Y_df, \n",
        "          X_df=None,                             # Exogenous variables\n",
        "          S_df=None,                             # Static variables\n",
        "          hyperopt_steps=5,                      # Using 5 hyperopt steps\n",
        "          n_ts_val=n_ts_val,                     # validation set\n",
        "          n_ts_test=n_ts_test,                   # test set\n",
        "          results_dir='./results/autonhits',\n",
        "          save_trials=True,\n",
        "          loss_function_val=nf.losses.numpy.mae, # MSE, QL, MQL, sMAPE ...\n",
        "          loss_functions_test={'mae':nf.losses.numpy.mae,\n",
        "                               'mse':nf.losses.numpy.mse},\n",
        "          return_test_forecast=True,\n",
        "          verbose=False)"
      ],
      "metadata": {
        "colab": {
          "base_uri": "https://localhost:8080/"
        },
        "id": "NxXLEHHUFgfU",
        "outputId": "31bb521d-6bff-47b4-9e26-1ad756548578"
      },
      "execution_count": 16,
      "outputs": [
        {
          "output_type": "stream",
          "name": "stderr",
          "text": [
            "INFO:hyperopt.tpe:tpe_transform took 0.015052 seconds\n",
            "INFO:hyperopt.tpe:TPE using 0 trials\n",
            "INFO:hyperopt.tpe:tpe_transform took 0.023869 seconds\n",
            "INFO:hyperopt.tpe:TPE using 1/1 trials with best loss 1.101004\n",
            "INFO:hyperopt.tpe:tpe_transform took 0.044202 seconds\n",
            "INFO:hyperopt.tpe:TPE using 2/2 trials with best loss 0.442894\n",
            "INFO:hyperopt.tpe:tpe_transform took 0.020868 seconds\n",
            "INFO:hyperopt.tpe:TPE using 3/3 trials with best loss 0.442894\n",
            "INFO:hyperopt.tpe:tpe_transform took 0.022514 seconds\n",
            "INFO:hyperopt.tpe:TPE using 4/4 trials with best loss 0.420155\n"
          ]
        }
      ]
    },
    {
      "cell_type": "markdown",
      "source": [
        "## Evaluate Results"
      ],
      "metadata": {
        "id": "EbpRvC9zJzKk"
      }
    },
    {
      "cell_type": "markdown",
      "source": [
        "The `auto.NHITS` contains a `.trials` attribute. For each configuration explored, it will return the validation loss, hyperparameters (model config or `mc` key), run time and test loss.\n",
        "\n",
        "If the `return_forecasts` flag is set to `True`, the `.trials` attribute will also contain forecasts for the test set."
      ],
      "metadata": {
        "id": "CbjpjVxNaDcN"
      }
    },
    {
      "cell_type": "code",
      "source": [
        "trials = model.trials\n",
        "trials.trials[0]['result'].keys()"
      ],
      "metadata": {
        "colab": {
          "base_uri": "https://localhost:8080/"
        },
        "id": "kdmWWRqyJtZg",
        "outputId": "0d4be964-498f-4a80-863a-7d575fcff301"
      },
      "execution_count": 17,
      "outputs": [
        {
          "output_type": "execute_result",
          "data": {
            "text/plain": [
              "dict_keys(['loss', 'mc', 'run_time', 'status', 'test_losses', 'forecasts_test'])"
            ]
          },
          "metadata": {},
          "execution_count": 17
        }
      ]
    },
    {
      "cell_type": "markdown",
      "source": [
        "We then select the optimal run based on the validation loss, available using `trials.losses()`."
      ],
      "metadata": {
        "id": "tW4liN0kaYAA"
      }
    },
    {
      "cell_type": "code",
      "source": [
        "# Best validation hyperparameter configuration\n",
        "\n",
        "best_run = np.argmin(trials.losses())\n",
        "print(\"=\"*26+' Best  Hyperparameters '+\"=\"*26)\n",
        "print(pd.Series(trials.trials[best_run]['result']['mc']))"
      ],
      "metadata": {
        "colab": {
          "base_uri": "https://localhost:8080/"
        },
        "id": "kCTfgEhKJ4X6",
        "outputId": "0074e729-f372-4011-ed13-930e5526bbe3"
      },
      "execution_count": 18,
      "outputs": [
        {
          "output_type": "stream",
          "name": "stdout",
          "text": [
            "========================== Best  Hyperparameters ==========================\n",
            "activation                                                ReLU\n",
            "batch_normalization                                      False\n",
            "batch_size                                                   1\n",
            "complete_windows                                          True\n",
            "constant_n_blocks                                            1\n",
            "constant_n_layers                                            2\n",
            "constant_n_mlp_units                                       256\n",
            "dropout_prob_theta                                           0\n",
            "early_stop_patience                                         10\n",
            "eval_freq                                                   50\n",
            "frequency                                                 None\n",
            "idx_to_sample_freq                                           1\n",
            "initialization                                    lecun_normal\n",
            "interpolation_mode                                      linear\n",
            "learning_rate                                             0.01\n",
            "loss_hypar                                                 0.5\n",
            "loss_train                                                 MAE\n",
            "loss_valid                                                 MAE\n",
            "lr_decay                                                   0.5\n",
            "max_epochs                                                None\n",
            "max_steps                                                 1000\n",
            "mode                                                    simple\n",
            "model                                                    nhits\n",
            "n_freq_downsample                                  (40, 20, 1)\n",
            "n_lr_decays                                                  3\n",
            "n_pool_kernel_size                                   (4, 4, 4)\n",
            "n_s                                                          0\n",
            "n_s_hidden                                                   0\n",
            "n_series                                                     3\n",
            "n_time_in                                                  600\n",
            "n_time_out                                                 300\n",
            "n_windows                                                  256\n",
            "n_x                                                          0\n",
            "n_x_hidden                                                   0\n",
            "normalizer_x                                              None\n",
            "normalizer_y                                              None\n",
            "pooling_mode                                               max\n",
            "random_seed                                                8.0\n",
            "shared_weights                                           False\n",
            "stack_types                     (identity, identity, identity)\n",
            "val_idx_to_sample_freq                                       1\n",
            "weight_decay                                                 0\n",
            "n_mlp_units               [[256, 256], [256, 256], [256, 256]]\n",
            "n_layers                                             [2, 2, 2]\n",
            "n_blocks                                             [1, 1, 1]\n",
            "dtype: object\n"
          ]
        }
      ]
    },
    {
      "cell_type": "markdown",
      "source": [
        "Finally, we can retrieve the forecasts for the best run and the true values for the test set."
      ],
      "metadata": {
        "id": "o5hpLq81afK4"
      }
    },
    {
      "cell_type": "code",
      "source": [
        "y_hat = trials.trials[best_run]['result']['forecasts_test']['test_y_hat']\n",
        "y_true = trials.trials[best_run]['result']['forecasts_test']['test_y_true']"
      ],
      "metadata": {
        "id": "jKhOrHMWKCLN"
      },
      "execution_count": 19,
      "outputs": []
    },
    {
      "cell_type": "markdown",
      "source": [
        "Parsing the predictions and the test windows, for evaluations and plots."
      ],
      "metadata": {
        "id": "hQkqYN6Wai_i"
      }
    },
    {
      "cell_type": "code",
      "source": [
        "n_windows, n_time_out = y_true.shape\n",
        "n_series = len(Y_df.unique_id.unique())\n",
        "\n",
        "print('Raw results')\n",
        "print('1. y_true.shape (n_windows*n_series, n_time_out):\\t', y_true.shape)\n",
        "print('1. y_hat.shape  (n_windows*n_series, n_time_out):\\t', y_hat.shape)\n",
        "\n",
        "y_hat = y_hat.reshape((n_windows//n_series,n_series,n_time_out))\n",
        "y_true = y_true.reshape((n_windows//n_series,n_series,n_time_out))\n",
        "\n",
        "print('Parsed results')\n",
        "print('2. y_true.shape (n_windows, n_series, n_time_out):\\t', y_true.shape)\n",
        "print('2. y_hat.shape  (n_windows, n_series, n_time_out):\\t', y_hat.shape)"
      ],
      "metadata": {
        "colab": {
          "base_uri": "https://localhost:8080/"
        },
        "id": "RChXSW5wKK-3",
        "outputId": "f7655f3e-57f1-466e-ca41-4d4b4dd0362a"
      },
      "execution_count": 20,
      "outputs": [
        {
          "output_type": "stream",
          "name": "stdout",
          "text": [
            "Raw results\n",
            "1. y_true.shape (n_windows*n_series, n_time_out):\t (1578, 300)\n",
            "1. y_hat.shape  (n_windows*n_series, n_time_out):\t (1578, 300)\n",
            "Parsed results\n",
            "2. y_true.shape (n_windows, n_series, n_time_out):\t (526, 3, 300)\n",
            "2. y_hat.shape  (n_windows, n_series, n_time_out):\t (526, 3, 300)\n"
          ]
        }
      ]
    },
    {
      "cell_type": "markdown",
      "source": [
        "## Plotting the predictions and Obtaining Error metric values"
      ],
      "metadata": {
        "id": "H1fmbKK2ao3i"
      }
    },
    {
      "cell_type": "code",
      "source": [
        "plt.plot(y_true[400,0,:],label='True')\n",
        "plt.plot(y_hat[400,0,:],label='Forecast')\n",
        "plt.yticks([2.5,3,3.5,4,4.5]) # Can be varied as per parameter\n",
        "plt.grid()\n",
        "plt.ylabel('Voltage (V)',fontsize=14)\n",
        "plt.xlabel('Index', fontsize=14)\n",
        "plt.legend()\n",
        "#plt.savefig('cc_men_horizon_500.pdf',bbox_inches='tight')\n",
        "plt.show()\n",
        "plt.close()"
      ],
      "metadata": {
        "colab": {
          "base_uri": "https://localhost:8080/",
          "height": 282
        },
        "id": "xgfh3UKuKmCJ",
        "outputId": "aea806d4-f8ad-493c-9b49-365da1ab902f"
      },
      "execution_count": 25,
      "outputs": [
        {
          "output_type": "display_data",
          "data": {
            "text/plain": [
              "<Figure size 432x288 with 1 Axes>"
            ],
            "image/png": "[encoded data removed]"
          },
          "metadata": {
            "needs_background": "light"
          }
        }
      ]
    },
    {
      "cell_type": "markdown",
      "source": [
        "To find the path where the plots are stored run the code line below"
      ],
      "metadata": {
        "id": "8iet6SNibNTi"
      }
    },
    {
      "cell_type": "code",
      "source": [
        "pwd"
      ],
      "metadata": {
        "colab": {
          "base_uri": "https://localhost:8080/",
          "height": 35
        },
        "id": "nPPiuoydbbsx",
        "outputId": "ecbe97b3-31ba-4850-8ff4-05d89c685506"
      },
      "execution_count": 36,
      "outputs": [
        {
          "output_type": "execute_result",
          "data": {
            "text/plain": [
              "'/content/drive/MyDrive/datasets'"
            ],
            "application/vnd.google.colaboratory.intrinsic+json": {
              "type": "string"
            }
          },
          "metadata": {},
          "execution_count": 36
        }
      ]
    },
    {
      "cell_type": "code",
      "source": [
        "print('MAE: ', mae(y_hat, y_true))\n",
        "print('MSE: ', mse(y_hat, y_true))"
      ],
      "metadata": {
        "colab": {
          "base_uri": "https://localhost:8080/"
        },
        "id": "TCuJTucLLdA4",
        "outputId": "3198bd1b-8fb5-4383-cf95-6812cc90b84d"
      },
      "execution_count": 26,
      "outputs": [
        {
          "output_type": "stream",
          "name": "stdout",
          "text": [
            "MAE:  0.3567074\n",
            "MSE:  0.5157907\n"
          ]
        }
      ]
    },
    {
      "cell_type": "markdown",
      "source": [
        "## Getting error values for different horizons"
      ],
      "metadata": {
        "id": "oFmwq11qMPpX"
      }
    },
    {
      "cell_type": "code",
      "source": [
        "%%capture\n",
        "with open(\"results.csv\", 'w') as wl:\n",
        "  write_str = \"horizon,mae,mse\" + '\\n'\n",
        "  wl.write(write_str)\n",
        "  for i in [24,48,96,168,288,408]: # Horizon values (Can be changed as per requirement)\n",
        "    Y_df = pd.read_csv('/content/drive/MyDrive/datasets/test_d3.csv')\n",
        "    \n",
        "    n_time = len(Y_df.ds.unique())\n",
        "    n_ts_val = int(.2 * n_time)\n",
        "    n_ts_test = int(.2 * n_time)\n",
        "\n",
        "    n_time_out = i \n",
        "\n",
        "    model = auto.NHITS(n_time_out=i)\n",
        "    model.space['max_steps'] = hp.choice('max_steps', [1000])\n",
        "\n",
        "\n",
        "    model.fit(Y_df=Y_df, \n",
        "              X_df=None,                             \n",
        "              S_df=None,                             \n",
        "              hyperopt_steps=5,                      \n",
        "              n_ts_val=n_ts_val,                     \n",
        "              n_ts_test=n_ts_test,                   \n",
        "              results_dir='./results/autonhits',\n",
        "              save_trials=True,\n",
        "              loss_function_val=nf.losses.numpy.mae,\n",
        "              loss_functions_test={'mae':nf.losses.numpy.mae,\n",
        "                                  'mse':nf.losses.numpy.mse},\n",
        "              return_test_forecast=True,\n",
        "              verbose=False)\n",
        "    \n",
        "    trials = model.trials\n",
        "    trials.trials[0]['result'].keys()\n",
        "\n",
        "    best_run = np.argmin(trials.losses())\n",
        "    print(\"=\"*26+' Best  Hyperparameters '+\"=\"*26)\n",
        "    print(pd.Series(trials.trials[best_run]['result']['mc']))\n",
        "\n",
        "    y_hat = trials.trials[best_run]['result']['forecasts_test']['test_y_hat']\n",
        "    y_true = trials.trials[best_run]['result']['forecasts_test']['test_y_true']\n",
        "\n",
        "    n_windows, n_time_out = y_true.shape\n",
        "    n_series = len(Y_df.unique_id.unique())\n",
        "\n",
        "    print('Raw results')\n",
        "    print('1. y_true.shape (n_windows*n_series, n_time_out):\\t', y_true.shape)\n",
        "    print('1. y_hat.shape  (n_windows*n_series, n_time_out):\\t', y_hat.shape)\n",
        "\n",
        "    y_hat = y_hat.reshape((n_windows//n_series,n_series,n_time_out))\n",
        "    y_true = y_true.reshape((n_windows//n_series,n_series,n_time_out))\n",
        "\n",
        "    print('Parsed results')\n",
        "    print('2. y_true.shape (n_windows, n_series, n_time_out):\\t', y_true.shape)\n",
        "    print('2. y_hat.shape  (n_windows, n_series, n_time_out):\\t', y_hat.shape)\n",
        "\n",
        "    w = str(i) + ',' + str(mae(y_hat, y_true)) + ',' + str(mse(y_hat, y_true)) + '\\n'\n",
        "    wl.write(w)\n"
      ],
      "metadata": {
        "colab": {
          "base_uri": "https://localhost:8080/"
        },
        "id": "mEJnsYReMW19",
        "outputId": "aedc6af4-a0de-4334-a229-c7cae52e5682"
      },
      "execution_count": 30,
      "outputs": [
        {
          "output_type": "stream",
          "name": "stderr",
          "text": [
            "INFO:hyperopt.tpe:tpe_transform took 0.032751 seconds\n",
            "INFO:hyperopt.tpe:TPE using 0 trials\n",
            "INFO:hyperopt.tpe:tpe_transform took 0.030876 seconds\n",
            "INFO:hyperopt.tpe:TPE using 1/1 trials with best loss 0.232410\n",
            "INFO:hyperopt.tpe:tpe_transform took 0.030609 seconds\n",
            "INFO:hyperopt.tpe:TPE using 2/2 trials with best loss 0.232410\n",
            "INFO:hyperopt.tpe:tpe_transform took 0.017015 seconds\n",
            "INFO:hyperopt.tpe:TPE using 3/3 trials with best loss 0.186943\n",
            "INFO:hyperopt.tpe:tpe_transform took 0.026391 seconds\n",
            "INFO:hyperopt.tpe:TPE using 4/4 trials with best loss 0.134873\n",
            "INFO:hyperopt.tpe:tpe_transform took 0.018676 seconds\n",
            "INFO:hyperopt.tpe:TPE using 0 trials\n",
            "INFO:hyperopt.tpe:tpe_transform took 0.016942 seconds\n",
            "INFO:hyperopt.tpe:TPE using 1/1 trials with best loss 0.252538\n",
            "INFO:hyperopt.tpe:tpe_transform took 0.036184 seconds\n",
            "INFO:hyperopt.tpe:TPE using 2/2 trials with best loss 0.217585\n",
            "INFO:hyperopt.tpe:tpe_transform took 0.024514 seconds\n",
            "INFO:hyperopt.tpe:TPE using 3/3 trials with best loss 0.198915\n",
            "INFO:hyperopt.tpe:tpe_transform took 0.017251 seconds\n",
            "INFO:hyperopt.tpe:TPE using 4/4 trials with best loss 0.198915\n",
            "INFO:hyperopt.tpe:tpe_transform took 0.014971 seconds\n",
            "INFO:hyperopt.tpe:TPE using 0 trials\n",
            "INFO:hyperopt.tpe:tpe_transform took 0.017433 seconds\n",
            "INFO:hyperopt.tpe:TPE using 1/1 trials with best loss 0.253160\n",
            "INFO:hyperopt.tpe:tpe_transform took 0.018437 seconds\n",
            "INFO:hyperopt.tpe:TPE using 2/2 trials with best loss 0.253160\n",
            "INFO:hyperopt.tpe:tpe_transform took 0.016691 seconds\n",
            "INFO:hyperopt.tpe:TPE using 3/3 trials with best loss 0.253160\n",
            "INFO:hyperopt.tpe:tpe_transform took 0.037250 seconds\n",
            "INFO:hyperopt.tpe:TPE using 4/4 trials with best loss 0.237576\n",
            "INFO:hyperopt.tpe:tpe_transform took 0.015026 seconds\n",
            "INFO:hyperopt.tpe:TPE using 0 trials\n",
            "INFO:hyperopt.tpe:tpe_transform took 0.046549 seconds\n",
            "INFO:hyperopt.tpe:TPE using 1/1 trials with best loss 0.317392\n",
            "INFO:hyperopt.tpe:tpe_transform took 0.020369 seconds\n",
            "INFO:hyperopt.tpe:TPE using 2/2 trials with best loss 0.317392\n",
            "INFO:hyperopt.tpe:tpe_transform took 0.023349 seconds\n",
            "INFO:hyperopt.tpe:TPE using 3/3 trials with best loss 0.317392\n",
            "INFO:hyperopt.tpe:tpe_transform took 0.019568 seconds\n",
            "INFO:hyperopt.tpe:TPE using 4/4 trials with best loss 0.317392\n",
            "INFO:hyperopt.tpe:tpe_transform took 0.013884 seconds\n",
            "INFO:hyperopt.tpe:TPE using 0 trials\n",
            "INFO:hyperopt.tpe:tpe_transform took 0.033494 seconds\n",
            "INFO:hyperopt.tpe:TPE using 1/1 trials with best loss 151.793915\n",
            "INFO:hyperopt.tpe:tpe_transform took 0.040574 seconds\n",
            "INFO:hyperopt.tpe:TPE using 2/2 trials with best loss 0.498451\n",
            "INFO:hyperopt.tpe:tpe_transform took 0.038272 seconds\n",
            "INFO:hyperopt.tpe:TPE using 3/3 trials with best loss 0.380366\n",
            "INFO:hyperopt.tpe:tpe_transform took 0.016271 seconds\n",
            "INFO:hyperopt.tpe:TPE using 4/4 trials with best loss 0.380366\n",
            "INFO:hyperopt.tpe:tpe_transform took 0.013972 seconds\n",
            "INFO:hyperopt.tpe:TPE using 0 trials\n",
            "INFO:hyperopt.tpe:tpe_transform took 0.021113 seconds\n",
            "INFO:hyperopt.tpe:TPE using 1/1 trials with best loss 0.399673\n",
            "INFO:hyperopt.tpe:tpe_transform took 0.028135 seconds\n",
            "INFO:hyperopt.tpe:TPE using 2/2 trials with best loss 0.399673\n",
            "INFO:hyperopt.tpe:tpe_transform took 0.023228 seconds\n",
            "INFO:hyperopt.tpe:TPE using 3/3 trials with best loss 0.390271\n",
            "INFO:hyperopt.tpe:tpe_transform took 0.032960 seconds\n",
            "INFO:hyperopt.tpe:TPE using 4/4 trials with best loss 0.390271\n"
          ]
        }
      ]
    },
    {
      "cell_type": "code",
      "source": [
        "df = pd.read_csv('/content/drive/MyDrive/datasets/results.csv')\n",
        "df"
      ],
      "metadata": {
        "colab": {
          "base_uri": "https://localhost:8080/",
          "height": 238
        },
        "id": "CdyjWOlGRfiq",
        "outputId": "92418e05-e87d-4470-b7fb-1fbe70bb828a"
      },
      "execution_count": 32,
      "outputs": [
        {
          "output_type": "execute_result",
          "data": {
            "text/plain": [
              "   horizon       mae       mse\n",
              "0       24  0.132929  0.132007\n",
              "1       48  0.178558  0.170440\n",
              "2       96  0.200108  0.207271\n",
              "3      168  0.243703  0.278428\n",
              "4      288  0.388648  0.554785\n",
              "5      408  0.733145  1.686926"
            ],
            "text/html": [
              "\n",
              "  <div id=\"df-c638f455-6dfd-4451-8659-d548490e9db4\">\n",
              "    <div class=\"colab-df-container\">\n",
              "      <div>\n",
              "<style scoped>\n",
              "    .dataframe tbody tr th:only-of-type {\n",
              "        vertical-align: middle;\n",
              "    }\n",
              "\n",
              "    .dataframe tbody tr th {\n",
              "        vertical-align: top;\n",
              "    }\n",
              "\n",
              "    .dataframe thead th {\n",
              "        text-align: right;\n",
              "    }\n",
              "</style>\n",
              "<table border=\"1\" class=\"dataframe\">\n",
              "  <thead>\n",
              "    <tr style=\"text-align: right;\">\n",
              "      <th></th>\n",
              "      <th>horizon</th>\n",
              "      <th>mae</th>\n",
              "      <th>mse</th>\n",
              "    </tr>\n",
              "  </thead>\n",
              "  <tbody>\n",
              "    <tr>\n",
              "      <th>0</th>\n",
              "      <td>24</td>\n",
              "      <td>0.132929</td>\n",
              "      <td>0.132007</td>\n",
              "    </tr>\n",
              "    <tr>\n",
              "      <th>1</th>\n",
              "      <td>48</td>\n",
              "      <td>0.178558</td>\n",
              "      <td>0.170440</td>\n",
              "    </tr>\n",
              "    <tr>\n",
              "      <th>2</th>\n",
              "      <td>96</td>\n",
              "      <td>0.200108</td>\n",
              "      <td>0.207271</td>\n",
              "    </tr>\n",
              "    <tr>\n",
              "      <th>3</th>\n",
              "      <td>168</td>\n",
              "      <td>0.243703</td>\n",
              "      <td>0.278428</td>\n",
              "    </tr>\n",
              "    <tr>\n",
              "      <th>4</th>\n",
              "      <td>288</td>\n",
              "      <td>0.388648</td>\n",
              "      <td>0.554785</td>\n",
              "    </tr>\n",
              "    <tr>\n",
              "      <th>5</th>\n",
              "      <td>408</td>\n",
              "      <td>0.733145</td>\n",
              "      <td>1.686926</td>\n",
              "    </tr>\n",
              "  </tbody>\n",
              "</table>\n",
              "</div>\n",
              "      <button class=\"colab-df-convert\" onclick=\"convertToInteractive('df-c638f455-6dfd-4451-8659-d548490e9db4')\"\n",
              "              title=\"Convert this dataframe to an interactive table.\"\n",
              "              style=\"display:none;\">\n",
              "        \n",
              "  <svg xmlns=\"http://www.w3.org/2000/svg\" height=\"24px\"viewBox=\"0 0 24 24\"\n",
              "       width=\"24px\">\n",
              "    <path d=\"M0 0h24v24H0V0z\" fill=\"none\"/>\n",
              "    <path d=\"M18.56 5.44l.94 2.06.94-2.06 2.06-.94-2.06-.94-.94-2.06-.94 2.06-2.06.94zm-11 1L8.5 8.5l.94-2.06 2.06-.94-2.06-.94L8.5 2.5l-.94 2.06-2.06.94zm10 10l.94 2.06.94-2.06 2.06-.94-2.06-.94-.94-2.06-.94 2.06-2.06.94z\"/><path d=\"M17.41 7.96l-1.37-1.37c-.4-.4-.92-.59-1.43-.59-.52 0-1.04.2-1.43.59L10.3 9.45l-7.72 7.72c-.78.78-.78 2.05 0 2.83L4 21.41c.39.39.9.59 1.41.59.51 0 1.02-.2 1.41-.59l7.78-7.78 2.81-2.81c.8-.78.8-2.07 0-2.86zM5.41 20L4 18.59l7.72-7.72 1.47 1.35L5.41 20z\"/>\n",
              "  </svg>\n",
              "      </button>\n",
              "      \n",
              "  <style>\n",
              "    .colab-df-container {\n",
              "      display:flex;\n",
              "      flex-wrap:wrap;\n",
              "      gap: 12px;\n",
              "    }\n",
              "\n",
              "    .colab-df-convert {\n",
              "      background-color: #E8F0FE;\n",
              "      border: none;\n",
              "      border-radius: 50%;\n",
              "      cursor: pointer;\n",
              "      display: none;\n",
              "      fill: #1967D2;\n",
              "      height: 32px;\n",
              "      padding: 0 0 0 0;\n",
              "      width: 32px;\n",
              "    }\n",
              "\n",
              "    .colab-df-convert:hover {\n",
              "      background-color: #E2EBFA;\n",
              "      box-shadow: 0px 1px 2px rgba(60, 64, 67, 0.3), 0px 1px 3px 1px rgba(60, 64, 67, 0.15);\n",
              "      fill: #174EA6;\n",
              "    }\n",
              "\n",
              "    [theme=dark] .colab-df-convert {\n",
              "      background-color: #3B4455;\n",
              "      fill: #D2E3FC;\n",
              "    }\n",
              "\n",
              "    [theme=dark] .colab-df-convert:hover {\n",
              "      background-color: #434B5C;\n",
              "      box-shadow: 0px 1px 3px 1px rgba(0, 0, 0, 0.15);\n",
              "      filter: drop-shadow(0px 1px 2px rgba(0, 0, 0, 0.3));\n",
              "      fill: #FFFFFF;\n",
              "    }\n",
              "  </style>\n",
              "\n",
              "      <script>\n",
              "        const buttonEl =\n",
              "          document.querySelector('#df-c638f455-6dfd-4451-8659-d548490e9db4 button.colab-df-convert');\n",
              "        buttonEl.style.display =\n",
              "          google.colab.kernel.accessAllowed ? 'block' : 'none';\n",
              "\n",
              "        async function convertToInteractive(key) {\n",
              "          const element = document.querySelector('#df-c638f455-6dfd-4451-8659-d548490e9db4');\n",
              "          const dataTable =\n",
              "            await google.colab.kernel.invokeFunction('convertToInteractive',\n",
              "                                                     [key], {});\n",
              "          if (!dataTable) return;\n",
              "\n",
              "          const docLinkHtml = 'Like what you see? Visit the ' +\n",
              "            '<a target=\"_blank\" href=https://colab.research.google.com/notebooks/data_table.ipynb>data table notebook</a>'\n",
              "            + ' to learn more about interactive tables.';\n",
              "          element.innerHTML = '';\n",
              "          dataTable['output_type'] = 'display_data';\n",
              "          await google.colab.output.renderOutput(dataTable, element);\n",
              "          const docLink = document.createElement('div');\n",
              "          docLink.innerHTML = docLinkHtml;\n",
              "          element.appendChild(docLink);\n",
              "        }\n",
              "      </script>\n",
              "    </div>\n",
              "  </div>\n",
              "  "
            ]
          },
          "metadata": {},
          "execution_count": 32
        }
      ]
    },
    {
      "cell_type": "code",
      "source": [
        "# Plotting the error metrics\n",
        "\n",
        "plt.plot(df['horizon'],df['mae'],marker='o',label=\"mae\")\n",
        "plt.plot(df['horizon'],df['mse'],marker='X',label=\"mse\")\n",
        "plt.xticks(df['horizon'])\n",
        "plt.legend()\n",
        "#plt.savefig('error_plot.pdf',bbox-inches='tight')"
      ],
      "metadata": {
        "colab": {
          "base_uri": "https://localhost:8080/",
          "height": 281
        },
        "id": "HCSYJhnPRwpi",
        "outputId": "292667ea-3156-4f87-e1a6-1a1997e9829c"
      },
      "execution_count": 35,
      "outputs": [
        {
          "output_type": "execute_result",
          "data": {
            "text/plain": [
              "<matplotlib.legend.Legend at 0x7fb6639fa810>"
            ]
          },
          "metadata": {},
          "execution_count": 35
        },
        {
          "output_type": "display_data",
          "data": {
            "text/plain": [
              "<Figure size 432x288 with 1 Axes>"
            ],
            "image/png": "[encoded data removed]"
          },
          "metadata": {
            "needs_background": "light"
          }
        }
      ]
    }
  ]
}